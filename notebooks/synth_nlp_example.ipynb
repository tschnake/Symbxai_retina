{
 "cells": [
  {
   "cell_type": "code",
   "execution_count": 2,
   "id": "c9a8d751",
   "metadata": {},
   "outputs": [],
   "source": [
    "%load_ext autoreload\n",
    "%autoreload 2"
   ]
  },
  {
   "cell_type": "code",
   "execution_count": 3,
   "id": "a3943760",
   "metadata": {},
   "outputs": [
    {
     "name": "stderr",
     "output_type": "stream",
     "text": [
      "/opt/miniconda3/envs/symb_xai/lib/python3.10/site-packages/tqdm/auto.py:21: TqdmWarning: IProgress not found. Please update jupyter and ipywidgets. See https://ipywidgets.readthedocs.io/en/stable/user_install.html\n",
      "  from .autonotebook import tqdm as notebook_tqdm\n"
     ]
    }
   ],
   "source": [
    "from symb_xai.lrp.symbolic_xai import TransformerSymbXAI, BERTSymbXAI\n",
    "from symb_xai.model.transformer import tiny_transformer_with_3_layers, bert_base_uncased_model\n",
    "from symb_xai.model.utils import load_pretrained_weights\n",
    "from transformers import BertTokenizer\n",
    "from dgl.data import SSTDataset\n",
    "\n",
    "from symb_xai.visualization.utils import html_heatmap, make_text_string\n",
    "from IPython.display import display, HTML, Latex\n",
    "\n",
    "\n",
    "import torch"
   ]
  },
  {
   "cell_type": "code",
   "execution_count": 7,
   "id": "20ba931a",
   "metadata": {},
   "outputs": [],
   "source": [
    "from itertools import chain, combinations\n",
    "\n",
    "def powerset(s):\n",
    "    \"powerset([1,2,3]) --> [[1], [2], [3], [1,2], [1,3], [2,3], [1,2,3]\" \n",
    "    out = chain.from_iterable( combinations(s, r) for r in range(len(s)+1))\n",
    "    return [list(elem) for elem in out if list(elem) != []] # no empty set\n"
   ]
  },
  {
   "cell_type": "code",
   "execution_count": 8,
   "id": "da5a729f",
   "metadata": {},
   "outputs": [],
   "source": [
    "large_model = True\n",
    "# Create model.\n",
    "if not large_model:\n",
    "    model = tiny_transformer_with_3_layers(\n",
    "        pretrained_model_name_or_path=\"textattack/bert-base-uncased-SST-2\"\n",
    "    )\n",
    "    # Load pre-trained weights.\n",
    "    load_pretrained_weights(\n",
    "        model,\n",
    "        '../saved_models/sst2-3layer-model.pt'\n",
    "    )\n",
    "else:\n",
    "    model = bert_base_uncased_model(\n",
    "        pretrained_model_name_or_path='textattack/bert-base-uncased-SST-2'\n",
    "    )\n",
    "\n",
    "model.eval()\n",
    "pretrained_embeddings = model.bert.embeddings\n",
    "\n",
    "\n",
    "\n"
   ]
  },
  {
   "cell_type": "code",
   "execution_count": 24,
   "id": "2b845f62",
   "metadata": {},
   "outputs": [
    {
     "name": "stdout",
     "output_type": "stream",
     "text": [
      "Full:  [CLS] huge explosions and loud shooting, this is exactly what i like. [SEP]\n",
      "X: huge explosions and loud shooting\n",
      "Y: this is exactly what i like\n",
      "Z: [CLS],. [SEP]\n",
      "\n",
      "\n"
     ]
    },
    {
     "data": {
      "text/latex": [
       "$\\mathcal{X}\\, \\big|_{\\mathcal{X}}$ $\\rightarrow -0.001$"
      ],
      "text/plain": [
       "<IPython.core.display.Latex object>"
      ]
     },
     "metadata": {},
     "output_type": "display_data"
    },
    {
     "data": {
      "text/latex": [
       "$\\mathcal{X}$ $\\rightarrow 0.155$"
      ],
      "text/plain": [
       "<IPython.core.display.Latex object>"
      ]
     },
     "metadata": {},
     "output_type": "display_data"
    },
    {
     "data": {
      "text/latex": [
       "$\\mathcal{X} \\wedge \\mathcal{Y}$ $\\rightarrow 0.11$"
      ],
      "text/plain": [
       "<IPython.core.display.Latex object>"
      ]
     },
     "metadata": {},
     "output_type": "display_data"
    },
    {
     "data": {
      "text/latex": [
       "$\\mathcal{Y}\\, \\big|_{\\mathcal{Y}}$ $\\rightarrow 0.081$"
      ],
      "text/plain": [
       "<IPython.core.display.Latex object>"
      ]
     },
     "metadata": {},
     "output_type": "display_data"
    },
    {
     "data": {
      "text/latex": [
       "$\\mathcal{Y}$ $\\rightarrow 0.618$"
      ],
      "text/plain": [
       "<IPython.core.display.Latex object>"
      ]
     },
     "metadata": {},
     "output_type": "display_data"
    },
    {
     "data": {
      "text/latex": [
       "$\\mathcal{Z}$ $\\rightarrow 0.037$"
      ],
      "text/plain": [
       "<IPython.core.display.Latex object>"
      ]
     },
     "metadata": {},
     "output_type": "display_data"
    },
    {
     "data": {
      "image/png": "[encoded data removed]",
      "text/plain": [
       "<Figure size 432x360 with 1 Axes>"
      ]
     },
     "metadata": {},
     "output_type": "display_data"
    },
    {
     "name": "stdout",
     "output_type": "stream",
     "text": [
      "check conservation:  1.000000011540468 1.0\n",
      "\n",
      "\n",
      "Full:  [CLS] huge explosions and loud shooting, please no, what a poor imitation. [SEP]\n",
      "X: huge explosions and loud shooting\n",
      "Y: please no, what a poor imitation\n",
      "Z: [CLS],. [SEP]\n",
      "\n",
      "\n"
     ]
    },
    {
     "data": {
      "text/latex": [
       "$\\mathcal{X}\\, \\big|_{\\mathcal{X}}$ $\\rightarrow -0.013$"
      ],
      "text/plain": [
       "<IPython.core.display.Latex object>"
      ]
     },
     "metadata": {},
     "output_type": "display_data"
    },
    {
     "data": {
      "text/latex": [
       "$\\mathcal{X}$ $\\rightarrow 0.043$"
      ],
      "text/plain": [
       "<IPython.core.display.Latex object>"
      ]
     },
     "metadata": {},
     "output_type": "display_data"
    },
    {
     "data": {
      "text/latex": [
       "$\\mathcal{X} \\wedge \\mathcal{Y}$ $\\rightarrow 0.053$"
      ],
      "text/plain": [
       "<IPython.core.display.Latex object>"
      ]
     },
     "metadata": {},
     "output_type": "display_data"
    },
    {
     "data": {
      "text/latex": [
       "$\\mathcal{Y}\\, \\big|_{\\mathcal{Y}}$ $\\rightarrow 0.135$"
      ],
      "text/plain": [
       "<IPython.core.display.Latex object>"
      ]
     },
     "metadata": {},
     "output_type": "display_data"
    },
    {
     "data": {
      "text/latex": [
       "$\\mathcal{Y}$ $\\rightarrow 0.766$"
      ],
      "text/plain": [
       "<IPython.core.display.Latex object>"
      ]
     },
     "metadata": {},
     "output_type": "display_data"
    },
    {
     "data": {
      "text/latex": [
       "$\\mathcal{Z}$ $\\rightarrow 0.017$"
      ],
      "text/plain": [
       "<IPython.core.display.Latex object>"
      ]
     },
     "metadata": {},
     "output_type": "display_data"
    },
    {
     "data": {
      "image/png": "[encoded data removed]",
      "text/plain": [
       "<Figure size 432x360 with 1 Axes>"
      ]
     },
     "metadata": {},
     "output_type": "display_data"
    },
    {
     "name": "stdout",
     "output_type": "stream",
     "text": [
      "check conservation:  1.0000000115758305 1.0\n",
      "\n",
      "\n",
      "Full:  [CLS] this movie showed thousands of little pup ##pies, i love little pup ##pies ! [SEP]\n",
      "X: this movie showed thousands of little pup ##pies\n",
      "Y: i love little pup ##pies\n",
      "Z: [CLS], ! [SEP]\n",
      "\n",
      "\n"
     ]
    },
    {
     "data": {
      "text/latex": [
       "$\\mathcal{X}\\, \\big|_{\\mathcal{X}}$ $\\rightarrow 0.04$"
      ],
      "text/plain": [
       "<IPython.core.display.Latex object>"
      ]
     },
     "metadata": {},
     "output_type": "display_data"
    },
    {
     "data": {
      "text/latex": [
       "$\\mathcal{X}$ $\\rightarrow 0.353$"
      ],
      "text/plain": [
       "<IPython.core.display.Latex object>"
      ]
     },
     "metadata": {},
     "output_type": "display_data"
    },
    {
     "data": {
      "text/latex": [
       "$\\mathcal{X} \\wedge \\mathcal{Y}$ $\\rightarrow 0.125$"
      ],
      "text/plain": [
       "<IPython.core.display.Latex object>"
      ]
     },
     "metadata": {},
     "output_type": "display_data"
    },
    {
     "data": {
      "text/latex": [
       "$\\mathcal{Y}\\, \\big|_{\\mathcal{Y}}$ $\\rightarrow 0.034$"
      ],
      "text/plain": [
       "<IPython.core.display.Latex object>"
      ]
     },
     "metadata": {},
     "output_type": "display_data"
    },
    {
     "data": {
      "text/latex": [
       "$\\mathcal{Y}$ $\\rightarrow 0.408$"
      ],
      "text/plain": [
       "<IPython.core.display.Latex object>"
      ]
     },
     "metadata": {},
     "output_type": "display_data"
    },
    {
     "data": {
      "text/latex": [
       "$\\mathcal{Z}$ $\\rightarrow 0.04$"
      ],
      "text/plain": [
       "<IPython.core.display.Latex object>"
      ]
     },
     "metadata": {},
     "output_type": "display_data"
    },
    {
     "data": {
      "image/png": "[encoded data removed]",
      "text/plain": [
       "<Figure size 432x360 with 1 Axes>"
      ]
     },
     "metadata": {},
     "output_type": "display_data"
    },
    {
     "name": "stdout",
     "output_type": "stream",
     "text": [
      "check conservation:  0.9999998883042257 1.0\n",
      "\n",
      "\n"
     ]
    }
   ],
   "source": [
    "import matplotlib.pyplot as plt\n",
    "import matplotlib\n",
    "plt.rcParams['text.usetex'] = True\n",
    "\n",
    "font = {'family': 'serif',\n",
    "        'size'   : 22}\n",
    "\n",
    "matplotlib.rc('font', **font)\n",
    "\n",
    "sents = {}\n",
    "targets = {}\n",
    "X = {}\n",
    "Y = {}\n",
    "\n",
    "verbose=True\n",
    "\n",
    "sents[0] = \"Huge explosions and loud shooting, this is exactly what I like.\"\n",
    "sents[1] = \"Huge explosions and loud shooting, please no, what a poor imitation.\"\n",
    "sents[2] = \"This movie showed thousands of little puppies, I love little puppies!\"\n",
    "# sents[3] = \"This movie showed thousands of little puppies, I hate little puppies!\"\n",
    "\n",
    "targets[0] = torch.tensor([-1,1])\n",
    "targets[1] = torch.tensor([-1,1])\n",
    "targets[2] = torch.tensor([-1,1])\n",
    "# targets[3] = torch.tensor([-1,1])\n",
    "\n",
    "X[0] = [1,2,3,4,5]\n",
    "X[1] = [1,2,3,4,5]\n",
    "X[2] = [1,2,3,4,5,6,7,8]\n",
    "# X[3] = [1,2,3,4,5,6,7,8]\n",
    "\n",
    "Y[0] = [7,8,9,10,11,12]\n",
    "Y[1] = [7,8,9,10,11,12,13]\n",
    "Y[2] = [10,11,12,13,14]\n",
    "# Y[3] = [10,11,12,13,14]\n",
    "\n",
    "\n",
    "\n",
    "\n",
    "###### \n",
    "embeddings = model.bert.embeddings\n",
    "tokenizer = BertTokenizer.from_pretrained(\"textattack/bert-base-uncased-SST-2\")\n",
    "\n",
    "samples = {ids: tokenizer(sent, return_tensors=\"pt\") for ids,sent in sents.items()}\n",
    "\n",
    "sent_tokens = {ids: tokenizer.convert_ids_to_tokens(sample['input_ids'].squeeze())\n",
    "               for ids,sample in samples.items()}\n",
    "Z = {}\n",
    "for ids, sent_token in sent_tokens.items():\n",
    "    token_ids = list(range(len(sent_token)))\n",
    "    token_ids = [tok for tok in token_ids if not( tok in X[ids] or tok in Y[ids])]\n",
    "    Z[ids] = token_ids\n",
    "\n",
    "explainers = {ids: BERTSymbXAI(sample, target, model, pretrained_embeddings) if large_model \n",
    "              else TransformerSymbXAI(sample, target, model, embeddings) \n",
    "               for (ids,sample), (_,target) in zip(samples.items(), targets.items()) }\n",
    "\n",
    "\n",
    "# Specify the queries\n",
    "for idn, ids in enumerate(sents.keys()):\n",
    "    if verbose:\n",
    "        print('Full: ', make_text_string(sent_tokens[ids]))\n",
    "#         for ids, (tX,tY,tZ) in enumerate(zip(X.values(), Y.values(), Z.values())):\n",
    "        print('X:', make_text_string([sent_tokens[ids][x] for x in X[ids]]))\n",
    "        print('Y:', make_text_string([sent_tokens[ids][y] for y in Y[ids]]))\n",
    "        print('Z:', make_text_string([sent_tokens[ids][z] for z in Z[ids]]))\n",
    "        print('\\n')\n",
    "\n",
    "    \n",
    "    qks = {'$\\\\mathcal{X}\\\\, \\\\big|_{\\\\mathcal{X}}$' : lambda l: l == [X[ids]],\n",
    "           '$\\\\mathcal{X}$' : lambda l: X[ids] in l,\n",
    "          '$\\\\mathcal{X} \\wedge \\\\mathcal{Y}$' :lambda l: (X[ids] in l) and (Y[ids] in l),\n",
    "          '$\\\\mathcal{Y}\\\\, \\\\big|_{\\\\mathcal{Y}}$' : lambda l: l == [Y[ids]],\n",
    "          '$\\\\mathcal{Y}$' : lambda l: Y[ids] in l,\n",
    "          '$\\\\mathcal{Z}$' :lambda l: l == [Z[ids]] }\n",
    "    colors = {\n",
    "        '$\\\\mathcal{X}\\\\, \\\\big|_{\\\\mathcal{X}}$' : 'lightgreen',\n",
    "           '$\\\\mathcal{X}$' : 'forestgreen',\n",
    "          '$\\\\mathcal{X} \\wedge \\\\mathcal{Y}$' : 'teal',\n",
    "          '$\\\\mathcal{Y}\\\\, \\\\big|_{\\\\mathcal{Y}}$' : 'bisque',\n",
    "          '$\\\\mathcal{Y}$' : 'darkorange',\n",
    "          '$\\\\mathcal{Z}$' : 'yellow'\n",
    "    }\n",
    "\n",
    "\n",
    "    pow_s = powerset([X[ids],Y[ids],Z[ids]])\n",
    "    explainer = explainers[ids]\n",
    "\n",
    "\n",
    "    def attribute(qk,pow_s, qks):\n",
    "        out = 0.\n",
    "        for l in pow_s:\n",
    "            flat_l = [item for sublist in l for item in sublist]\n",
    "\n",
    "            harsanyi_div = explainer.symb_and(l, context=flat_l)\n",
    "            eta_l = 1/sum([float(q(l)) for q in qks.values() ])\n",
    "\n",
    "            out += eta_l * harsanyi_div * float(qk(l))\n",
    "\n",
    "        return out.item()\n",
    "\n",
    "    full_out = 0.\n",
    "    full_quantity = explainer.subgraph_relevance(list(range(len(sent_tokens[ids])))).item()\n",
    "    atts = {}\n",
    "    for key, qk in qks.items():\n",
    "        atts[key] = attribute(qk, pow_s, qks)/full_quantity \n",
    "        full_out += atts[key]\n",
    "        display(Latex(key + ' $\\\\rightarrow '+ str(round(atts[key], 3)) + '$'))\n",
    "    \n",
    "    fig, ax = plt.subplots(figsize=(6,5))\n",
    "    aat, keys, cols = [],[],[]\n",
    "    \n",
    "    for at, key in zip(atts.values(),atts.keys()):\n",
    "        cols.append(colors[key])\n",
    "        \n",
    "        if at<0:\n",
    "            key += ' (-)'\n",
    "        aat.append(abs(at))\n",
    "        keys.append(key)\n",
    "        \n",
    "    patches, texts = ax.pie(aat, colors=cols, shadow=False)\n",
    "    plt.legend(patches, keys, loc=\"best\")\n",
    "    plt.savefig('../pics/pie_plot_synth_nlp_ids{0}.svg'.format(idn))\n",
    "    plt.show()\n",
    "    \n",
    "    print('check conservation: ', \n",
    "          full_out, \n",
    "          explainer.subgraph_relevance(list(range(len(sent_tokens[ids])))).item()/full_quantity\n",
    "    )\n",
    "    print('\\n')\n",
    "\n"
   ]
  },
  {
   "cell_type": "code",
   "execution_count": 22,
   "id": "7b5095e7",
   "metadata": {},
   "outputs": [
    {
     "data": {
      "image/png": "[encoded data removed]",
      "text/plain": [
       "<Figure size 432x288 with 1 Axes>"
      ]
     },
     "metadata": {
      "needs_background": "light"
     },
     "output_type": "display_data"
    }
   ],
   "source": [
    "import matplotlib.pyplot as plt\n",
    "\n",
    "# Create a legend without any associated plot elements\n",
    "legend_labels = ['Label 1', 'Label 2', 'Label 3']\n",
    "\n",
    "# Create a figure and axis (you can adjust the figure size as needed)\n",
    "fig, ax = plt.subplots(figsize=(6, 4))\n",
    "\n",
    "# Create the legend without any plot elements\n",
    "legend = ax.legend(legend_labels, loc='upper right')\n",
    "\n",
    "# Turn off the axis so it's not visible in the saved image\n",
    "ax.axis('off')\n",
    "\n",
    "# Optionally, you can customize the legend's appearance\n",
    "legend.get_frame().set_alpha(0.7)  # Adjust the legend's background transparency\n",
    "legend.set_title('Custom Legend Title')  # Set a legend title\n",
    "\n",
    "# Save the legend as an image (e.g., PNG)\n",
    "plt.savefig('custom_legend.png', bbox_inches='tight', dpi=300)\n",
    "\n",
    "# Show the legend (optional)\n",
    "plt.show()\n"
   ]
  },
  {
   "cell_type": "code",
   "execution_count": null,
   "id": "14556741",
   "metadata": {},
   "outputs": [],
   "source": [
    "# sents = {}\n",
    "# targets = {}\n",
    "# query_ids = {}\n",
    "# contexts = {}\n",
    "# # sents[0] = \"Sandra Bullock is usually a good actress, but this time she wasn’t.\"\n",
    "# # sents[1] = \"Great to see that this time Sandra Bullock wasn’t acting strange.\"\n",
    "# sents[2] = \"Huge explosions and loud shooting, this is exactly what I like.\"\n",
    "# sents[3] = \"Huge explosions and loud shooting, please no, what a poor imitation.\"\n",
    "\n",
    "# # targets[0] = torch.tensor([-1,1])\n",
    "# # targets[1] = torch.tensor([-1,1])\n",
    "# targets[2] = torch.tensor([-1,1])\n",
    "# targets[3] = torch.tensor([-1,1])\n",
    "\n",
    "# # query_ids[0] = [10,11,13,14,15]\n",
    "# # query_ids[1] = [5,6,9,10,11]\n",
    "# query_ids[2] = [1,2,3,4,5]\n",
    "# query_ids[3] = [1,2,3,4,5]\n",
    "\n",
    "# # contexts[0] = [3,4,5,6,7]\n",
    "# # contexts[1] = [12,13]\n",
    "# contexts[2] = [7,8,9,10,11,12]\n",
    "# contexts[3] = [7,8,9,10,11,12,13]\n",
    "# ###### \n",
    "# embeddings = model.bert.embeddings\n",
    "# tokenizer = BertTokenizer.from_pretrained(\"textattack/bert-base-uncased-SST-2\")\n",
    "\n",
    "# samples = {ids: tokenizer(sent, return_tensors=\"pt\") for ids,sent in sents.items()}\n",
    "# # sample1 = \n",
    "# # sample2 = tokenizer(sent2, return_tensors=\"pt\")\n",
    "# sent_tokens = {ids: tokenizer.convert_ids_to_tokens(sample['input_ids'].squeeze())\n",
    "#                for ids,sample in samples.items()}\n",
    "\n",
    "\n",
    "# # sent_tokens1 = \n",
    "# # sent_tokens2 = tokenizer.convert_ids_to_tokens(sample2['input_ids'].squeeze())\n",
    "# explainers = {ids: BERTSymbXAI(sample, target, model, pretrained_embeddings) if large_model \n",
    "#               else TransformerSymbXAI(sample, target, model, embeddings) \n",
    "#                for (ids,sample), (_,target) in zip(samples.items(), targets.items()) }\n",
    "# # explainer1 = \n",
    "# # explainer2 = TransformerSymbXAI(sample2, target2, model, embeddings)\n",
    "\n",
    "\n",
    "# for explainer, tokens, sample, sent, context, query_id in zip(explainers.values(),\n",
    "#                                                     sent_tokens.values(), \n",
    "#                                                     samples.values(), \n",
    "#                                                     sents.values(),\n",
    "#                                                    contexts.values(),\n",
    "#                                                    query_ids.values()):\n",
    "#     print( \n",
    "#       '\"'+ sent +'\"', \n",
    "#       '----> ', 'positive' if model(**sample)['logits'].argmax() == 1 else 'negative')\n",
    "    \n",
    "#     display(Latex('$\\\\mathcal{R}(I|\\\\,  \\\\mathcal{N})$'))\n",
    "#     display(HTML(html_heatmap(tokens, [explainer.symb_or([feat]) for feat in range(len(tokens))])))\n",
    "#     display(Latex('$\\\\mathcal{R}(I|\\\\,  \\\\{I\\\\})$'))\n",
    "#     display(HTML(html_heatmap(tokens, [explainer.symb_or([feat], context=[feat]) for feat in range(len(tokens))])))\n",
    "    \n",
    "#     print(f'subsent', '\"' + make_text_string([tokens[ids] for ids in query_id]) +'\"',\n",
    "#           'with context', '\"' +make_text_string([tokens[ids] for ids in context]) +'\"',\n",
    "#           ' val: ', explainer.symb_or(query_id, context=query_id+context).item())\n",
    "    \n",
    "#     print(f'subsent', '\"' + make_text_string([tokens[ids] for ids in query_id]) +'\"',\n",
    "#           'with full context',\n",
    "#           ' val: ', explainer.symb_or(query_id, context=None).item())\n",
    "    \n",
    "#     print(f'subsent', '\"' + make_text_string([tokens[ids] for ids in query_id]) +'\"',\n",
    "#           'without context',\n",
    "#           ' val: ', explainer.symb_or(query_id, context=query_id).item())\n",
    "#     print(f'context', '\"' + make_text_string([tokens[ids] for ids in context]) +'\"',\n",
    "#           'without context',\n",
    "#           ' val: ', explainer.symb_or(context, context=context).item())\n",
    "#     print(f'context', '\"' + make_text_string([tokens[ids] for ids in context]) +'\"',\n",
    "#           'with full context',\n",
    "#           ' val: ', explainer.symb_or(context, context=None).item())  \n",
    "#     print('full contribution:', explainer.symb_or(list(range(len(tokens))), context=None).item() )\n",
    "#     print('\\n')\n",
    "    \n"
   ]
  },
  {
   "cell_type": "code",
   "execution_count": null,
   "id": "b6ee516c",
   "metadata": {},
   "outputs": [],
   "source": [
    "# sents = {}\n",
    "# targets = {}\n",
    "# subsent1 = {}\n",
    "# subsent2 = {}\n",
    "\n",
    "# sents[0] = \"This movie showed thousands of little puppies, I love little puppies!\"\n",
    "# sents[1] = \"This movie showed thousands of little puppies, I hate little puppies!\"\n",
    "\n",
    "\n",
    "# targets[0] = torch.tensor([-1,1])\n",
    "# targets[1] = torch.tensor([-1,1])\n",
    "\n",
    "\n",
    "# subsent1[0] = [1,2,3,4,5,6,7,8]\n",
    "# subsent1[1] = [1,2,3,4,5,6,7]\n",
    "\n",
    "\n",
    "# subsent2[0] = [10,11,12,13,14]\n",
    "# subsent2[1] = [10,11,12,13,14]\n",
    "\n",
    "# ###### \n",
    "# embeddings = model.bert.embeddings\n",
    "# tokenizer = BertTokenizer.from_pretrained(\"textattack/bert-base-uncased-SST-2\")\n",
    "\n",
    "# samples = {ids: tokenizer(sent, return_tensors=\"pt\") for ids,sent in sents.items()}\n",
    "\n",
    "# sent_tokens = {ids: tokenizer.convert_ids_to_tokens(sample['input_ids'].squeeze())\n",
    "#                for ids,sample in samples.items()}\n",
    "\n",
    "# explainers = {ids: BERTSymbXAI(sample, target, model, pretrained_embeddings) if large_model \n",
    "#               else TransformerSymbXAI(sample, target, model, embeddings) \n",
    "#                for (ids,sample), (_,target) in zip(samples.items(), targets.items()) }\n",
    "\n",
    "# for explainer, tokens, sample, sent, sent1, sent2 in zip(explainers.values(),\n",
    "#                                                     sent_tokens.values(), \n",
    "#                                                     samples.values(), \n",
    "#                                                     sents.values(),\n",
    "#                                                    subsent1.values(),\n",
    "#                                                    subsent2.values()):\n",
    "#     print( \n",
    "#       '\"'+ sent +'\"', \n",
    "#       '----> ', 'positive' if model(**sample)['logits'].argmax() == 1 else 'negative')\n",
    "    \n",
    "#     display(Latex('$\\\\mathcal{R}(I|\\\\,  \\\\mathcal{N})$'))\n",
    "#     display(HTML(html_heatmap(tokens, [explainer.symb_or([feat]) for feat in range(len(tokens))])))\n",
    "#     display(Latex('$\\\\mathcal{R}(I|\\\\,  \\\\{I\\\\})$'))\n",
    "#     display(HTML(html_heatmap(tokens, [explainer.symb_or([feat], context=[feat]) for feat in range(len(tokens))])))\n",
    "    \n",
    "#     print(f'subsent', '\"' + make_text_string([tokens[ids] for ids in sent1]) +'\"',\n",
    "#           'and subent', '\"' +make_text_string([tokens[ids] for ids in sent2]) +'\"',\n",
    "#           ' val: ', explainer.symb_and([sent1,sent2], context=None).item())\n",
    "\n",
    "#     print(f'sent1', '\"' + make_text_string([tokens[ids] for ids in sent1]) +'\"',\n",
    "#           'without context',\n",
    "#           ' val: ', explainer.symb_or(sent1, context=sent1).item())\n",
    "#     print(f'sent2', '\"' + make_text_string([tokens[ids] for ids in sent2]) +'\"',\n",
    "#           'without context',\n",
    "#           ' val: ', explainer.symb_or(sent2, context=sent2).item())\n",
    "#     print(f'sent1', '\"' + make_text_string([tokens[ids] for ids in sent1]) +'\"',\n",
    "#           'with full contntext',\n",
    "#           ' val: ', explainer.symb_or(sent1, context=None).item())\n",
    "#     print(f'sent2', '\"' + make_text_string([tokens[ids] for ids in sent2]) +'\"',\n",
    "#           'with full context',\n",
    "#           ' val: ', explainer.symb_or(sent2, context=None).item())\n",
    "#     print('full contribution:', explainer.symb_or(list(range(len(tokens))), context=None).item() )\n",
    "\n",
    "#     print('\\n')\n",
    "    \n"
   ]
  },
  {
   "cell_type": "code",
   "execution_count": null,
   "id": "2a03720b",
   "metadata": {},
   "outputs": [],
   "source": [
    "\n"
   ]
  },
  {
   "cell_type": "code",
   "execution_count": null,
   "id": "988e8bbc",
   "metadata": {},
   "outputs": [],
   "source": []
  },
  {
   "cell_type": "code",
   "execution_count": null,
   "id": "a5956eca",
   "metadata": {},
   "outputs": [],
   "source": []
  }
 ],
 "metadata": {
  "kernelspec": {
   "display_name": "symbxai",
   "language": "python",
   "name": "symbxai"
  },
  "language_info": {
   "codemirror_mode": {
    "name": "ipython",
    "version": 3
   },
   "file_extension": ".py",
   "mimetype": "text/x-python",
   "name": "python",
   "nbconvert_exporter": "python",
   "pygments_lexer": "ipython3",
   "version": "3.10.14"
  }
 },
 "nbformat": 4,
 "nbformat_minor": 5
}
