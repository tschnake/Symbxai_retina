{
 "cells": [
  {
   "cell_type": "code",
   "execution_count": 10,
   "id": "a2cac573",
   "metadata": {},
   "outputs": [],
   "source": [
    "import sys\n",
    "import os\n",
    "sys.path.insert(0, \"/home/farnoush/symbolicXAI\")\n",
    "from model.transformer import tiny_transformer_with_3_layers\n",
    "from model.utils import load_pretrained_weights\n",
    "from lrp.symbolic_xai import TransformerSymbXAI\n",
    "import transformers\n",
    "import torch\n",
    "import dgl\n",
    "import networkx as nx\n",
    "from dgl.data import SSTDataset\n",
    "from visualization.utils import create_text_heat_map\n",
    "from itertools import product\n",
    "from tqdm import tqdm\n",
    "from lrp.queries import run_query\n",
    "from datasets import load_dataset\n",
    "from tqdm import tqdm\n",
    "import numpy as np\n",
    "from IPython.display import display, HTML"
   ]
  },
  {
   "cell_type": "markdown",
   "id": "ad550701",
   "metadata": {},
   "source": [
    "## Create the model"
   ]
  },
  {
   "cell_type": "code",
   "execution_count": 2,
   "id": "0cf8bea9",
   "metadata": {},
   "outputs": [],
   "source": [
    "# Create model.\n",
    "tiny_transformer = tiny_transformer_with_3_layers(\n",
    "    pretrained_model_name_or_path=\"textattack/bert-base-uncased-SST-2\"\n",
    ")\n",
    "pretrained_embeddings = tiny_transformer.bert.embeddings\n",
    "\n",
    "# Load pre-trained weights.\n",
    "load_pretrained_weights(\n",
    "    tiny_transformer,\n",
    "        '/home/farnoush/fairness/sst2-3layer-model.pt'\n",
    ")"
   ]
  },
  {
   "cell_type": "markdown",
   "id": "bdcd2503",
   "metadata": {},
   "source": [
    "## Load SST-2 dataset"
   ]
  },
  {
   "cell_type": "code",
   "execution_count": 3,
   "id": "2f4e7b4b",
   "metadata": {},
   "outputs": [
    {
     "name": "stderr",
     "output_type": "stream",
     "text": [
      "Found cached dataset sst2 (/home/farnoush/.cache/huggingface/datasets/sst2/default/2.0.0/9896208a8d85db057ac50c72282bcb8fe755accc671a57dd8059d4e130961ed5)\n"
     ]
    },
    {
     "data": {
      "application/vnd.jupyter.widget-view+json": {
       "model_id": "72efa16f0233462abdde0ae456a3ad65",
       "version_major": 2,
       "version_minor": 0
      },
      "text/plain": [
       "  0%|          | 0/3 [00:00<?, ?it/s]"
      ]
     },
     "metadata": {},
     "output_type": "display_data"
    }
   ],
   "source": [
    "# Load SST2 dataset.\n",
    "dataset = load_dataset(\"sst2\", \"default\")"
   ]
  },
  {
   "cell_type": "markdown",
   "id": "49ec423a",
   "metadata": {},
   "source": [
    "## Evaluate model"
   ]
  },
  {
   "cell_type": "code",
   "execution_count": 10,
   "id": "f391588d",
   "metadata": {},
   "outputs": [
    {
     "name": "stderr",
     "output_type": "stream",
     "text": [
      "100%|█████████████████████████████████████████| 872/872 [00:13<00:00, 65.17it/s]"
     ]
    },
    {
     "name": "stdout",
     "output_type": "stream",
     "text": [
      "Top-1 acc: 0.75\n"
     ]
    },
    {
     "name": "stderr",
     "output_type": "stream",
     "text": [
      "\n"
     ]
    }
   ],
   "source": [
    "acc = 0\n",
    "tiny_transformer.eval()\n",
    "\n",
    "tokenizer = transformers.BertTokenizer.from_pretrained(\"textattack/bert-base-uncased-SST-2\")\n",
    "UNK_IDX = tokenizer.unk_token_id  # an out-of-vocab token\n",
    "\n",
    "for i in tqdm(range(len(dataset['validation']))):\n",
    "    sentence = dataset['validation']['sentence'][i]\n",
    "    target = dataset['validation']['label'][i]\n",
    "\n",
    "    x = tokenizer(sentence, return_tensors=\"pt\")\n",
    "    words = tokenizer.convert_ids_to_tokens(x['input_ids'].squeeze())\n",
    "    \n",
    "    logits = tiny_transformer(x)\n",
    "    prediction = logits.argmax()\n",
    "    \n",
    "    if prediction == target:\n",
    "        acc += 1\n",
    "\n",
    "print(\"Top-1 acc: {}\".format(acc / len(dataset['validation'])))"
   ]
  },
  {
   "cell_type": "markdown",
   "id": "ecc92d9e",
   "metadata": {},
   "source": [
    "## Explain model"
   ]
  },
  {
   "cell_type": "code",
   "execution_count": 17,
   "id": "7f1147f0",
   "metadata": {},
   "outputs": [
    {
     "name": "stdout",
     "output_type": "stream",
     "text": [
      "it, may, please: 4.5922017097473145\n"
     ]
    },
    {
     "data": {
      "text/html": [
       "<p><center> <text style=\"background-color:rgba(0, 0, 255,-0.0);font-weight: bold; font-size:20px; font-family: Courier;\">[CLS]</text> <text style=\"background-color:rgba(0, 0, 255,-0.0);font-weight: bold; font-size:20px; font-family: Courier;\">however</text> <text style=\"background-color:rgba(255, 0, 0,1.0);font-weight: bold;font-size:20px; font-family: Courier;\">it</text> <text style=\"background-color:rgba(255, 0, 0,1.0);font-weight: bold;font-size:20px; font-family: Courier;\">may</text> <text style=\"background-color:rgba(255, 0, 0,1.0);font-weight: bold;font-size:20px; font-family: Courier;\">please</text> <text style=\"background-color:rgba(0, 0, 255,-0.0);font-weight: bold; font-size:20px; font-family: Courier;\">those</text> <text style=\"background-color:rgba(0, 0, 255,-0.0);font-weight: bold; font-size:20px; font-family: Courier;\">who</text><br> <text style=\"background-color:rgba(0, 0, 255,-0.0);font-weight: bold; font-size:20px; font-family: Courier;\">love</text> <text style=\"background-color:rgba(0, 0, 255,-0.0);font-weight: bold; font-size:20px; font-family: Courier;\">movies</text> <text style=\"background-color:rgba(0, 0, 255,-0.0);font-weight: bold; font-size:20px; font-family: Courier;\">that</text> <text style=\"background-color:rgba(0, 0, 255,-0.0);font-weight: bold; font-size:20px; font-family: Courier;\">b</text> <text style=\"background-color:rgba(0, 0, 255,-0.0);font-weight: bold; font-size:20px; font-family: Courier;\">##lar</text> <text style=\"background-color:rgba(0, 0, 255,-0.0);font-weight: bold; font-size:20px; font-family: Courier;\">##e</text><br> <text style=\"background-color:rgba(0, 0, 255,-0.0);font-weight: bold; font-size:20px; font-family: Courier;\">with</text> <text style=\"background-color:rgba(0, 0, 255,-0.0);font-weight: bold; font-size:20px; font-family: Courier;\">pop</text> <text style=\"background-color:rgba(0, 0, 255,-0.0);font-weight: bold; font-size:20px; font-family: Courier;\">songs</text><text style=\"background-color:rgba(0, 0, 255,-0.0);font-weight: bold; font-size:20px; font-family: Courier;\">,</text> <text style=\"background-color:rgba(0, 0, 255,-0.0);font-weight: bold; font-size:20px; font-family: Courier;\">young</text> <text style=\"background-color:rgba(0, 0, 255,-0.0);font-weight: bold; font-size:20px; font-family: Courier;\">science</text><br> <text style=\"background-color:rgba(0, 0, 255,-0.0);font-weight: bold; font-size:20px; font-family: Courier;\">fiction</text> <text style=\"background-color:rgba(0, 0, 255,-0.0);font-weight: bold; font-size:20px; font-family: Courier;\">fans</text> <text style=\"background-color:rgba(0, 0, 255,-0.0);font-weight: bold; font-size:20px; font-family: Courier;\">will</text> <text style=\"background-color:rgba(0, 0, 255,-0.0);font-weight: bold; font-size:20px; font-family: Courier;\">st</text> <text style=\"background-color:rgba(0, 0, 255,-0.0);font-weight: bold; font-size:20px; font-family: Courier;\">##omp</text> <text style=\"background-color:rgba(0, 0, 255,-0.0);font-weight: bold; font-size:20px; font-family: Courier;\">away</text><br> <text style=\"background-color:rgba(0, 0, 255,-0.0);font-weight: bold; font-size:20px; font-family: Courier;\">in</text> <text style=\"background-color:rgba(0, 0, 255,-0.0);font-weight: bold; font-size:20px; font-family: Courier;\">disgust</text><text style=\"background-color:rgba(0, 0, 255,-0.0);font-weight: bold; font-size:20px; font-family: Courier;\">.</text> <text style=\"background-color:rgba(0, 0, 255,-0.0);font-weight: bold; font-size:20px; font-family: Courier;\">[SEP]</text></center></p>"
      ],
      "text/plain": [
       "<IPython.core.display.HTML object>"
      ]
     },
     "metadata": {},
     "output_type": "display_data"
    },
    {
     "name": "stdout",
     "output_type": "stream",
     "text": [
      "away, in, disgust: -39.019615173339844\n"
     ]
    },
    {
     "data": {
      "text/html": [
       "<p><center> <text style=\"background-color:rgba(0, 0, 255,-0.0);font-weight: bold; font-size:20px; font-family: Courier;\">[CLS]</text> <text style=\"background-color:rgba(0, 0, 255,-0.0);font-weight: bold; font-size:20px; font-family: Courier;\">however</text> <text style=\"background-color:rgba(0, 0, 255,-0.0);font-weight: bold; font-size:20px; font-family: Courier;\">it</text> <text style=\"background-color:rgba(0, 0, 255,-0.0);font-weight: bold; font-size:20px; font-family: Courier;\">may</text> <text style=\"background-color:rgba(0, 0, 255,-0.0);font-weight: bold; font-size:20px; font-family: Courier;\">please</text> <text style=\"background-color:rgba(0, 0, 255,-0.0);font-weight: bold; font-size:20px; font-family: Courier;\">those</text> <text style=\"background-color:rgba(0, 0, 255,-0.0);font-weight: bold; font-size:20px; font-family: Courier;\">who</text><br> <text style=\"background-color:rgba(0, 0, 255,-0.0);font-weight: bold; font-size:20px; font-family: Courier;\">love</text> <text style=\"background-color:rgba(0, 0, 255,-0.0);font-weight: bold; font-size:20px; font-family: Courier;\">movies</text> <text style=\"background-color:rgba(0, 0, 255,-0.0);font-weight: bold; font-size:20px; font-family: Courier;\">that</text> <text style=\"background-color:rgba(0, 0, 255,-0.0);font-weight: bold; font-size:20px; font-family: Courier;\">b</text> <text style=\"background-color:rgba(0, 0, 255,-0.0);font-weight: bold; font-size:20px; font-family: Courier;\">##lar</text> <text style=\"background-color:rgba(0, 0, 255,-0.0);font-weight: bold; font-size:20px; font-family: Courier;\">##e</text><br> <text style=\"background-color:rgba(0, 0, 255,-0.0);font-weight: bold; font-size:20px; font-family: Courier;\">with</text> <text style=\"background-color:rgba(0, 0, 255,-0.0);font-weight: bold; font-size:20px; font-family: Courier;\">pop</text> <text style=\"background-color:rgba(0, 0, 255,-0.0);font-weight: bold; font-size:20px; font-family: Courier;\">songs</text><text style=\"background-color:rgba(0, 0, 255,-0.0);font-weight: bold; font-size:20px; font-family: Courier;\">,</text> <text style=\"background-color:rgba(0, 0, 255,-0.0);font-weight: bold; font-size:20px; font-family: Courier;\">young</text> <text style=\"background-color:rgba(0, 0, 255,-0.0);font-weight: bold; font-size:20px; font-family: Courier;\">science</text><br> <text style=\"background-color:rgba(0, 0, 255,-0.0);font-weight: bold; font-size:20px; font-family: Courier;\">fiction</text> <text style=\"background-color:rgba(0, 0, 255,-0.0);font-weight: bold; font-size:20px; font-family: Courier;\">fans</text> <text style=\"background-color:rgba(0, 0, 255,-0.0);font-weight: bold; font-size:20px; font-family: Courier;\">will</text> <text style=\"background-color:rgba(0, 0, 255,-0.0);font-weight: bold; font-size:20px; font-family: Courier;\">st</text> <text style=\"background-color:rgba(0, 0, 255,-0.0);font-weight: bold; font-size:20px; font-family: Courier;\">##omp</text> <text style=\"background-color:rgba(0, 0, 255,1.0);font-weight: bold; font-size:20px; font-family: Courier;\">away</text><br> <text style=\"background-color:rgba(0, 0, 255,1.0);font-weight: bold; font-size:20px; font-family: Courier;\">in</text> <text style=\"background-color:rgba(0, 0, 255,1.0);font-weight: bold; font-size:20px; font-family: Courier;\">disgust</text><text style=\"background-color:rgba(0, 0, 255,-0.0);font-weight: bold; font-size:20px; font-family: Courier;\">.</text> <text style=\"background-color:rgba(0, 0, 255,-0.0);font-weight: bold; font-size:20px; font-family: Courier;\">[SEP]</text></center></p>"
      ],
      "text/plain": [
       "<IPython.core.display.HTML object>"
      ]
     },
     "metadata": {},
     "output_type": "display_data"
    },
    {
     "name": "stdout",
     "output_type": "stream",
     "text": [
      "however: 0.5737371444702148\n"
     ]
    },
    {
     "data": {
      "text/html": [
       "<p><center> <text style=\"background-color:rgba(0, 0, 255,-0.0);font-weight: bold; font-size:20px; font-family: Courier;\">[CLS]</text> <text style=\"background-color:rgba(255, 0, 0,0.5737371444702148);font-weight: bold;font-size:20px; font-family: Courier;\">however</text> <text style=\"background-color:rgba(0, 0, 255,-0.0);font-weight: bold; font-size:20px; font-family: Courier;\">it</text> <text style=\"background-color:rgba(0, 0, 255,-0.0);font-weight: bold; font-size:20px; font-family: Courier;\">may</text> <text style=\"background-color:rgba(0, 0, 255,-0.0);font-weight: bold; font-size:20px; font-family: Courier;\">please</text> <text style=\"background-color:rgba(0, 0, 255,-0.0);font-weight: bold; font-size:20px; font-family: Courier;\">those</text> <text style=\"background-color:rgba(0, 0, 255,-0.0);font-weight: bold; font-size:20px; font-family: Courier;\">who</text><br> <text style=\"background-color:rgba(0, 0, 255,-0.0);font-weight: bold; font-size:20px; font-family: Courier;\">love</text> <text style=\"background-color:rgba(0, 0, 255,-0.0);font-weight: bold; font-size:20px; font-family: Courier;\">movies</text> <text style=\"background-color:rgba(0, 0, 255,-0.0);font-weight: bold; font-size:20px; font-family: Courier;\">that</text> <text style=\"background-color:rgba(0, 0, 255,-0.0);font-weight: bold; font-size:20px; font-family: Courier;\">b</text> <text style=\"background-color:rgba(0, 0, 255,-0.0);font-weight: bold; font-size:20px; font-family: Courier;\">##lar</text> <text style=\"background-color:rgba(0, 0, 255,-0.0);font-weight: bold; font-size:20px; font-family: Courier;\">##e</text><br> <text style=\"background-color:rgba(0, 0, 255,-0.0);font-weight: bold; font-size:20px; font-family: Courier;\">with</text> <text style=\"background-color:rgba(0, 0, 255,-0.0);font-weight: bold; font-size:20px; font-family: Courier;\">pop</text> <text style=\"background-color:rgba(0, 0, 255,-0.0);font-weight: bold; font-size:20px; font-family: Courier;\">songs</text><text style=\"background-color:rgba(0, 0, 255,-0.0);font-weight: bold; font-size:20px; font-family: Courier;\">,</text> <text style=\"background-color:rgba(0, 0, 255,-0.0);font-weight: bold; font-size:20px; font-family: Courier;\">young</text> <text style=\"background-color:rgba(0, 0, 255,-0.0);font-weight: bold; font-size:20px; font-family: Courier;\">science</text><br> <text style=\"background-color:rgba(0, 0, 255,-0.0);font-weight: bold; font-size:20px; font-family: Courier;\">fiction</text> <text style=\"background-color:rgba(0, 0, 255,-0.0);font-weight: bold; font-size:20px; font-family: Courier;\">fans</text> <text style=\"background-color:rgba(0, 0, 255,-0.0);font-weight: bold; font-size:20px; font-family: Courier;\">will</text> <text style=\"background-color:rgba(0, 0, 255,-0.0);font-weight: bold; font-size:20px; font-family: Courier;\">st</text> <text style=\"background-color:rgba(0, 0, 255,-0.0);font-weight: bold; font-size:20px; font-family: Courier;\">##omp</text> <text style=\"background-color:rgba(0, 0, 255,-0.0);font-weight: bold; font-size:20px; font-family: Courier;\">away</text><br> <text style=\"background-color:rgba(0, 0, 255,-0.0);font-weight: bold; font-size:20px; font-family: Courier;\">in</text> <text style=\"background-color:rgba(0, 0, 255,-0.0);font-weight: bold; font-size:20px; font-family: Courier;\">disgust</text><text style=\"background-color:rgba(0, 0, 255,-0.0);font-weight: bold; font-size:20px; font-family: Courier;\">.</text> <text style=\"background-color:rgba(0, 0, 255,-0.0);font-weight: bold; font-size:20px; font-family: Courier;\">[SEP]</text></center></p>"
      ],
      "text/plain": [
       "<IPython.core.display.HTML object>"
      ]
     },
     "metadata": {},
     "output_type": "display_data"
    }
   ],
   "source": [
    "i = 402\n",
    "sentence = dataset['validation']['sentence'][i]\n",
    "target = torch.tensor([-1, 1])\n",
    "\n",
    "tokenizer = transformers.BertTokenizer.from_pretrained(\"textattack/bert-base-uncased-SST-2\")\n",
    "\n",
    "sample = tokenizer(sentence, return_tensors=\"pt\")\n",
    "words = tokenizer.convert_ids_to_tokens(sample['input_ids'].squeeze())\n",
    "\n",
    "symb_xai_transformer = TransformerSymbXAI(\n",
    "    model=tiny_transformer,\n",
    "    embeddings=pretrained_embeddings,\n",
    "    sample=sample,\n",
    "    target=target\n",
    ")\n",
    "\n",
    "R1 = symb_xai_transformer.subgraph_relevance(subgraph=range(2, 5), from_walks=False)\n",
    "print(\"it, may, please: {}\".format(R2_5))\n",
    "R = np.zeros(len(words))\n",
    "R[2: 5] = R1\n",
    "display(HTML(create_text_heat_map(words, R.squeeze())))\n",
    "\n",
    "R2 = symb_xai_transformer.subgraph_relevance(subgraph=range(-5, -2), from_walks=False)\n",
    "print(\"away, in, disgust: {}\".format(R2))\n",
    "R = np.zeros(len(words))\n",
    "R[-5: -2] = R2\n",
    "display(HTML(create_text_heat_map(words, R.squeeze())))\n",
    "\n",
    "R3 = symb_xai_transformer.subgraph_relevance(subgraph=[1], from_walks=False)\n",
    "print(\"however: {}\".format(R3))\n",
    "R = np.zeros(len(words))\n",
    "R[1] = R3\n",
    "display(HTML(create_text_heat_map(words, R.squeeze())))"
   ]
  },
  {
   "cell_type": "code",
   "execution_count": null,
   "id": "2ebe484e",
   "metadata": {},
   "outputs": [],
   "source": []
  }
 ],
 "metadata": {
  "kernelspec": {
   "display_name": "Python 3 (ipykernel)",
   "language": "python",
   "name": "python3"
  },
  "language_info": {
   "codemirror_mode": {
    "name": "ipython",
    "version": 3
   },
   "file_extension": ".py",
   "mimetype": "text/x-python",
   "name": "python",
   "nbconvert_exporter": "python",
   "pygments_lexer": "ipython3",
   "version": "3.8.10"
  }
 },
 "nbformat": 4,
 "nbformat_minor": 5
}
