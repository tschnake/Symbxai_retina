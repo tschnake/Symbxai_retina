{
 "cells": [
  {
   "cell_type": "markdown",
   "metadata": {},
   "source": [
    "# Symbolic Explanations on the Mutagenicity Dataset\n",
    "\n",
    "\n",
    "### Load the packages, data and model"
   ]
  },
  {
   "cell_type": "code",
   "execution_count": 1,
   "metadata": {},
   "outputs": [
    {
     "name": "stderr",
     "output_type": "stream",
     "text": [
      "/opt/homebrew/Caskroom/miniconda/base/envs/symbxai/lib/python3.10/site-packages/tqdm/auto.py:21: TqdmWarning: IProgress not found. Please update jupyter and ipywidgets. See https://ipywidgets.readthedocs.io/en/stable/user_install.html\n",
      "  from .autonotebook import tqdm as notebook_tqdm\n"
     ]
    },
    {
     "name": "stdout",
     "output_type": "stream",
     "text": [
      "Loaded model biasedMutagenicity_GIN_1701953871.pth with test accuracy 0.8456\n"
     ]
    }
   ],
   "source": [
    "%load_ext autoreload\n",
    "%autoreload 2\n",
    "\n",
    "# import torch\n",
    "# from symb_xai.model.gin import GIN\n",
    "# import numpy as np\n",
    "\n",
    "from symb_xai.visualization.plot_mutag import plot_molecule, plot_molecule_with_relevance, get_molecule_plot_info\n",
    "from symb_xai.dataset.load_mutag import load_dataset\n",
    "# from symb_xai.lrp.explain_mutag import lrp_gconv, lrp_linear\n",
    "# from itertools import product\n",
    "from tqdm import tqdm\n",
    "\n",
    "from rdkit.Chem import Draw\n",
    "from rdkit import Chem\n",
    "\n",
    "dataset_name = 'Mutagenicity'\n",
    "dataset = load_dataset(dataset_name)\n",
    "\n",
    "import pandas as pd\n",
    "substructures_df = pd.read_csv('data/Mutagenicity/Mutagenicity_substructure.csv', delimiter='&')\n",
    "\n",
    "from symb_xai.model.mutag_utils import load_best_model\n",
    "model = load_best_model('biasedMutagenicity') # _GIN_1731595245\n",
    "\n",
    "debug = False\n",
    "rule_linear = 'gamma'\n",
    "gamma = 0.2\n",
    "from symb_xai.dataset.load_mutag import get_substructure_match\n",
    "from symb_xai.visualization.plot_mutag import plot_substructure_match\n",
    "from symb_xai.lrp.symbolic_xai import MutagenicitySymbXAI\n",
    "from symb_xai.utils import powerset\n",
    "import matplotlib.pyplot as plt\n",
    "from functools import reduce \n",
    "\n",
    "def find_substructure(molecule,substructure_name, substructures_df, plot=False):\n",
    "    substructure_smarts = substructures_df[substructures_df['name']==substructure_name]['smarts'].values[0]\n",
    "    substr_idx = get_substructure_match(molecule, substructure_smarts)\n",
    "    if substr_idx is None:\n",
    "        return False\n",
    "    else: \n",
    "        if plot:\n",
    "            print(substructure_name)\n",
    "            plot_substructure_match(molecule, substr_idx)\n",
    "        return {substructure_name: sorted(substr_idx)}\n",
    "    \n",
    "\n",
    "def obtatin_intersting_subtr_indices(interesting_substructures, molecule, substructures_df):\n",
    "    mol_substructures = {}\n",
    "    for substr_name in interesting_substructures: \n",
    "        substr_dict = find_substructure(molecule,substr_name , substructures_df, plot=False)\n",
    "        if substr_dict:\n",
    "            mol_substructures.update(substr_dict)\n",
    "\n",
    "    # Aggregate all indices present in the dictionary\n",
    "    all_indices = set(index for indices in mol_substructures.values() for index in indices)\n",
    "    # Determine the missing indices\n",
    "    missing_indices = set(range(molecule.GetNumAtoms())) - all_indices\n",
    "    # Update the dictionary with the missing indices\n",
    "    mol_substructures['rest'] = sorted(missing_indices)\n",
    "\n",
    "    return mol_substructures, len(mol_substructures) == (len(interesting_substructures) +1)"
   ]
  },
  {
   "cell_type": "markdown",
   "metadata": {},
   "source": [
    "## search for some samples"
   ]
  },
  {
   "cell_type": "code",
   "execution_count": 2,
   "metadata": {},
   "outputs": [
    {
     "name": "stdout",
     "output_type": "stream",
     "text": [
      "('Specific aromatic nitro', 'Sulfonamide', 'Specific aromatic amine')\n"
     ]
    }
   ],
   "source": [
    "substr_combination_names = [('Specific aromatic nitro', 'Sulfonamide'), ('Specific aromatic amine', 'Sulfonamide'), ('Specific aromatic nitro',), ('Specific aromatic amine',), ('Sulfonamide',) ]\n",
    "all_considered_substructures = tuple(set(reduce (lambda x,y : x + y , substr_combination_names)))\n",
    "print(all_considered_substructures)\n",
    "\n",
    "\n",
    "mol_idx_by_substr_comb = {sc_name : [] for sc_name in substr_combination_names}\n",
    "\n",
    "for idx in range(len(dataset)):\n",
    "    sample = dataset[idx]\n",
    "    plot_info = get_molecule_plot_info(sample, \n",
    "                                        dataset_name=dataset_name,\n",
    "                                        info_list=['pos', 'node_label_dict', 'bond_type_dict'])\n",
    "    molecule = plot_info['molecule']\n",
    "    Chem.SanitizeMol(molecule)\n",
    "    \n",
    "    for substr_combination in substr_combination_names:\n",
    "        substr_combination_compliment = tuple([name for name in all_considered_substructures if name not in substr_combination ])\n",
    "\n",
    "        # Check if all substructures in the combination are found\n",
    "        sub_combination_found = all(\n",
    "            bool(find_substructure(molecule, substr_name, substructures_df, plot=False))\n",
    "            for substr_name in substr_combination\n",
    "        )\n",
    "\n",
    "        # Check if all substructures in the complement are not found\n",
    "        sub_combination_complement_not_found = all(\n",
    "            not bool(find_substructure(molecule, substr_name, substructures_df, plot=False))\n",
    "            for substr_name in substr_combination_compliment\n",
    "        )\n",
    "\n",
    "        # Combine the conditions in the if clause\n",
    "        if sub_combination_found and sub_combination_complement_not_found:\n",
    "            mol_idx_by_substr_comb[substr_combination].append(idx)\n",
    "        \n",
    "    # for substr_combination in substr_combination_names:\n",
    "    #     if all([bool(find_substructure(molecule,substr_name , substructures_df, plot=False)) for substr_name in substr_combination]) and all([ not bool( find_substructure(molecule, substr_name, substructures_df, plot=False)) for substr_name in substr_combination_names_compliment ]):\n",
    "    #             mol_idx_by_substr_comb[substr_combination].append(idx)\n",
    "\n",
    "\n"
   ]
  },
  {
   "cell_type": "code",
   "execution_count": 3,
   "metadata": {},
   "outputs": [
    {
     "name": "stdout",
     "output_type": "stream",
     "text": [
      "('Specific aromatic nitro', 'Sulfonamide') 1\n",
      "('Specific aromatic amine', 'Sulfonamide') 6\n",
      "('Specific aromatic nitro',) 575\n",
      "('Specific aromatic amine',) 331\n",
      "('Sulfonamide',) 17\n"
     ]
    }
   ],
   "source": [
    "for key, vals in mol_idx_by_substr_comb.items():\n",
    "    print(key, len(vals))"
   ]
  },
  {
   "cell_type": "markdown",
   "metadata": {},
   "source": [
    "### Consider a specific molecule"
   ]
  },
  {
   "cell_type": "code",
   "execution_count": 4,
   "metadata": {},
   "outputs": [],
   "source": [
    "\n",
    "import seaborn as sns\n",
    "import pandas as pd\n",
    "orange = (.8, 0.5, 0.0)\n",
    "light_green = (0.5, .85, 0.5)\n",
    "green = (0.0, 0.5, 0.0)\n",
    "\n",
    "from symb_xai.visualization.utils import make_boxplots_with_stripplots\n",
    "\n"
   ]
  },
  {
   "cell_type": "code",
   "execution_count": 48,
   "metadata": {},
   "outputs": [
    {
     "name": "stderr",
     "output_type": "stream",
     "text": [
      "/opt/homebrew/Caskroom/miniconda/base/envs/symbxai/lib/python3.10/site-packages/seaborn/categorical.py:700: UserWarning: Setting the 'color' property will override the edgecolor or facecolor properties.\n",
      "  artists = ax.bxp(**boxplot_kws)\n"
     ]
    },
    {
     "data": {
      "image/png": "[encoded data removed]",
      "text/plain": [
       "<Figure size 600x800 with 1 Axes>"
      ]
     },
     "metadata": {},
     "output_type": "display_data"
    },
    {
     "name": "stdout",
     "output_type": "stream",
     "text": [
      "we skipted 0 samples from 6\n"
     ]
    }
   ],
   "source": [
    "\n",
    "\n",
    "plot_names = {\n",
    "    'Specific aromatic nitro': 'NO2',\n",
    "        'Specific aromatic amine': 'NH2',\n",
    "        'Sulfonamide' : 'SO2', \n",
    "        'rest': 'rest'\n",
    "    }\n",
    "\n",
    "for interesting_substructures in [ ('Specific aromatic amine', 'Sulfonamide')]:#, ('Sulfonamide',), ('Specific aromatic amine',), ]: #  # ['Specific aromatic nitro',  'Specific aromatic amine', 'Sulfonamide', ]\n",
    "    if interesting_substructures == ('Specific aromatic amine', 'Sulfonamide'):\n",
    "        observed_class = 1\n",
    "        plot_extent='SO2_NH2'\n",
    "    elif interesting_substructures == ('Specific aromatic amine',):\n",
    "        observed_class = 0\n",
    "        plot_extent = 'NH2'\n",
    "    elif interesting_substructures == ('Sulfonamide',):\n",
    "        observed_class = 1\n",
    "        plot_extent = 'SO2'\n",
    "    else:\n",
    "        raise NotImplementedError\n",
    "\n",
    "    intersting_indices = mol_idx_by_substr_comb[interesting_substructures] # [428, 262, 834, 1552, 1639, 2951, 3561] # [67,283,910,1064,1228,1248,1692,1832,1890,2072,2373,2621,3103,3286,3724,4063,4322 ]\n",
    "    \n",
    "    plot_samples = [] #range(len(dataset)) #[]\n",
    "\n",
    "    ######### \n",
    "    \n",
    "    nbs_of_errors = 0\n",
    "    all_rels = {}\n",
    "    for idx in intersting_indices:\n",
    "        sample = dataset[idx]\n",
    "        if sample.x.shape[0] != len(set(sample.edge_index[0].numpy())): # This is just a dataspecific bug\n",
    "            print('not for', idx)\n",
    "            nbs_of_errors += 1\n",
    "            continue\n",
    "        plot_info = get_molecule_plot_info(sample, \n",
    "                                            dataset_name=dataset_name,\n",
    "                                            info_list=['pos', 'node_label_dict', 'bond_type_dict'])\n",
    "        molecule = plot_info['molecule']\n",
    "        Chem.SanitizeMol(molecule)\n",
    "        \n",
    "\n",
    "        if model(sample.x, sample.edge_index).argmax() != sample.y:\n",
    "            continue\n",
    "        if observed_class is not None and sample.y != observed_class:\n",
    "            continue\n",
    "        \n",
    "\n",
    "        mol_substructures, _  = obtatin_intersting_subtr_indices(interesting_substructures, molecule, substructures_df)\n",
    "        \n",
    "        explainer = MutagenicitySymbXAI(sample,\n",
    "                            model,\n",
    "                            gamma=0.1,\n",
    "                            scal_val=1.,\n",
    "                            target_class= None,\n",
    "                            debug = False)\n",
    "\n",
    "        substr_pset = powerset(mol_substructures.keys())\n",
    "\n",
    "        for i, subst_names in enumerate(substr_pset):\n",
    "            curr_substrs = [mol_substructures[name] for name in subst_names]\n",
    "            rel = explainer.harsanyi_div(curr_substrs)\n",
    "            reduc_name = reduce(lambda x,y: x + '-' + y, [plot_names[name] for name in subst_names] )\n",
    "            \n",
    "            # print(subst_names, rel, reduc_name)\n",
    "            if reduc_name in all_rels.keys():\n",
    "                all_rels[reduc_name] += [rel]\n",
    "            else:\n",
    "                all_rels[reduc_name] = [rel]\n",
    "\n",
    "        if idx in plot_samples:\n",
    "            display(Draw.MolToImage(molecule))\n",
    "            plt.figure(figsize=(15,2))\n",
    "            plt.bar( all_rels.keys() ,\n",
    "                    [rels[-1] for rels in all_rels.values()],\n",
    "                    color=['red' if rels[-1]>0 else 'blue' for rels in all_rels.values()])\n",
    "            plt.show()\n",
    "            print('prediction is:', 'non-mutagenic' if  1 == model(sample.x, sample.edge_index).argmax() else 'mutagenic',  model(sample.x, sample.edge_index).detach().numpy())\n",
    "            print('ground-truth is:', 'non-mutagenic' if  1 == sample.y else 'mutagenic') \n",
    "\n",
    "    # fig, ax = plt.subplots(figsize=(10,4))\n",
    "    \n",
    "\n",
    "    # Assuming 'all_rels' is your dictionary of data\n",
    "    data = []\n",
    "    for key, values in all_rels.items():\n",
    "        for value in values:\n",
    "            data.append({'Substructure': key, 'Relevance': value.item()})\n",
    "    # Convert to DataFrame\n",
    "        \n",
    "    make_boxplots_with_stripplots(data, plot_extent=plot_extent, outlier_quantile=.0,add_vline=True,\n",
    "                                  figsize=(6,8))\n",
    "    print('we skipted', nbs_of_errors, 'samples from', len(intersting_indices))"
   ]
  },
  {
   "cell_type": "markdown",
   "metadata": {},
   "source": [
    "## Explaining queries"
   ]
  },
  {
   "cell_type": "code",
   "execution_count": 6,
   "metadata": {},
   "outputs": [],
   "source": [
    "from symb_xai.utils import Query_from_promt\n",
    "\n"
   ]
  },
  {
   "cell_type": "code",
   "execution_count": 29,
   "metadata": {},
   "outputs": [
    {
     "data": {
      "text/plain": [
       "37"
      ]
     },
     "execution_count": 29,
     "metadata": {},
     "output_type": "execute_result"
    }
   ],
   "source": [
    "# from itertools import product\n",
    "from functools import reduce\n",
    "from copy import copy\n",
    "\n",
    "\n",
    "import re\n",
    "\n",
    "from symb_xai.query_search.utils import generate_promts\n",
    "\n",
    "\n",
    "\n",
    "all_concepts = ['NH2', 'SO2', 'rest']\n",
    "all_neg_and_pos_concepts = copy(all_concepts)\n",
    "\n",
    "\n",
    "all_neg_and_pos_concepts += generate_promts(all_input_promts=all_concepts,\n",
    "                modes=[\n",
    "                    'negation of promts'\n",
    "                ])\n",
    "\n",
    "all_multi_order_conj = generate_promts(all_input_promts=all_neg_and_pos_concepts,\n",
    "            modes=[\n",
    "                f'conjuction of order {order} between promts'  for order in range(2,4)\n",
    "            ])\n",
    "\n",
    "all_implications = generate_promts(all_input_promts=all_concepts,\n",
    "                             modes=[\n",
    "                                 'implication between promts'\n",
    "                             ])\n",
    "all_implications_conj_neg_pos_concepts = generate_promts(all_input_promts=all_implications,\n",
    "                             more_input_promts=all_neg_and_pos_concepts,\n",
    "                             modes=[\n",
    "                                 'conjoin different promts with each other'\n",
    "                             ])\n",
    "\n",
    "all_promts = all_neg_and_pos_concepts + all_multi_order_conj + all_implications + all_implications_conj_neg_pos_concepts\n",
    "\n",
    "\n",
    "len(all_promts)"
   ]
  },
  {
   "cell_type": "code",
   "execution_count": null,
   "metadata": {},
   "outputs": [
    {
     "name": "stdout",
     "output_type": "stream",
     "text": [
      "we analyse 31 queries.\n"
     ]
    },
    {
     "name": "stderr",
     "output_type": "stream",
     "text": [
      "/opt/homebrew/Caskroom/miniconda/base/envs/symbxai/lib/python3.10/site-packages/seaborn/categorical.py:700: UserWarning: Setting the 'color' property will override the edgecolor or facecolor properties.\n",
      "  artists = ax.bxp(**boxplot_kws)\n"
     ]
    },
    {
     "data": {
      "image/png": "[encoded data removed]",
      "text/plain": [
       "<Figure size 600x600 with 1 Axes>"
      ]
     },
     "metadata": {},
     "output_type": "display_data"
    }
   ],
   "source": [
    "import numpy as np\n",
    "from symb_xai.query_search.utils import corr \n",
    "from statistics import median\n",
    "from symb_xai.query_search import remove_semantic_duplicate_queries\n",
    "\n",
    "\n",
    "\n",
    "interesting_substructures = ('Specific aromatic amine', 'Sulfonamide')\n",
    "all_query_promts = remove_semantic_duplicate_queries(all_promts[::-1], all_concepts, verbose=False) #['NH2 AND SO2', 'NH2 AND NOT SO2', 'NOT NH2 AND SO2', 'NH2 AND rest', 'SO2 AND rest', 'SO2 IMPLIES NH2', 'NH2 IMPLIES SO2', 'SO2', 'SO2 AND NOT rest', '( NH2 IMPLIES SO2 ) AND NOT rest']\n",
    "\n",
    "print(f'we analyse {len(all_query_promts)} queries.')\n",
    "\n",
    "plot_samples = False \n",
    "plot_extent = 'queries_NH2_SO2'\n",
    "nb_max_queries = 5\n",
    "result_mode =  'Relevance' #  'Relevance' \n",
    "\n",
    "concept_names = {\n",
    "    'Specific aromatic nitro': 'NO2',\n",
    "    'Specific aromatic amine': 'NH2',\n",
    "    'Sulfonamide' : 'SO2', \n",
    "    'rest': 'rest'\n",
    "}\n",
    "\n",
    "query_attributions = {promt: [] for promt in all_query_promts}\n",
    "filter_vectors = {}\n",
    "multi_order_vectors = {}\n",
    "for idx in mol_idx_by_substr_comb[interesting_substructures]:\n",
    "    for query_promt in all_query_promts:\n",
    "\n",
    "        sample = dataset[idx]\n",
    "\n",
    "        plot_info = get_molecule_plot_info(sample, \n",
    "                                            dataset_name=dataset_name,\n",
    "                                            info_list=['pos', 'node_label_dict', 'bond_type_dict'])\n",
    "\n",
    "        molecule = plot_info['molecule']\n",
    "        Chem.SanitizeMol(molecule)\n",
    "\n",
    "        mol_substructures, success  = obtatin_intersting_subtr_indices(interesting_substructures, molecule, substructures_df)\n",
    "\n",
    "        if not success: print('something went wrong here')\n",
    "\n",
    "        explainer = MutagenicitySymbXAI(sample,\n",
    "                                    model,\n",
    "                                    gamma=0.1,\n",
    "                                    scal_val=1.,\n",
    "                                    target_class= None,\n",
    "                                    debug = False)\n",
    "\n",
    "        \n",
    "\n",
    "        concept2ids = {concept_names[concept]: subset for concept, subset in mol_substructures.items()}\n",
    "\n",
    "        substr_pset = powerset(concept2ids.values())\n",
    "\n",
    "        query = Query_from_promt(\n",
    "            promt=query_promt,\n",
    "            concept2ids=concept2ids, \n",
    "            str_rep=None\n",
    "        )\n",
    "\n",
    "        filter_vector = query.get_filter_vector(substr_pset)\n",
    "        multi_order_vector = [explainer.harsanyi_div(subsets) for subsets in substr_pset]\n",
    "\n",
    "        multi_order_vectors[query_promt] = multi_order_vector\n",
    "        filter_vectors[query_promt]= filter_vector\n",
    "\n",
    "        if result_mode == 'Relevance':\n",
    "            query_attributions[query_promt] += [np.dot(filter_vector,multi_order_vector)]\n",
    "            plot_color = (0.5, 0.0, 0.5) \n",
    "            xticks=[-30, -20]\n",
    "        elif result_mode == 'Similarity':\n",
    "            query_attributions[query_promt] += [corr(np.array(filter_vector),np.array(multi_order_vector))]\n",
    "            plot_color = (0.8, .6, 0.2)\n",
    "            xticks = [-.5,-1]\n",
    "        else:\n",
    "            raise ValueError(f'result_mode = {result_mode} is not a valid input.')\n",
    "\n",
    "    if plot_samples:\n",
    "        display(Draw.MolToImage(molecule))\n",
    "        plt.figure(figsize=(15,2))\n",
    "        plt.bar( query_attributions.keys(),\n",
    "                        [rels[-1] for rels in query_attributions.values()],\n",
    "                        color=['red' if rels[-1]>0 else 'blue' for rels in query_attributions.values()])\n",
    "        plt.show()\n",
    "\n",
    "sorted_query_attributions = dict(\n",
    "    sorted(query_attributions.items(), key=lambda item: median(item[1]))\n",
    ")\n",
    "\n",
    "data = []\n",
    "for key, values in list(sorted_query_attributions.items())[:nb_max_queries]:\n",
    "    for value in values:\n",
    "        data.append({'Queries': key, result_mode: value})\n",
    "\n",
    "# Convert to DataFrame\n",
    "make_boxplots_with_stripplots(data, \n",
    "             plot_extent=plot_extent + '_' + result_mode, \n",
    "             figsize=(6,6), \n",
    "             boxcolor=plot_color,\n",
    "             outlier_quantile=0,\n",
    "             xticks = xticks)\n"
   ]
  },
  {
   "cell_type": "markdown",
   "metadata": {},
   "source": [
    "## Consider conservation property "
   ]
  },
  {
   "cell_type": "code",
   "execution_count": 9,
   "metadata": {},
   "outputs": [
    {
     "name": "stdout",
     "output_type": "stream",
     "text": [
      "not for 38\n",
      "not for 133\n",
      "not for 166\n",
      "not for 171\n",
      "not for 220\n",
      "not for 246\n",
      "not for 268\n",
      "not for 278\n",
      "not for 286\n",
      "not for 296\n",
      "not for 302\n",
      "not for 305\n",
      "not for 309\n",
      "not for 339\n",
      "not for 357\n",
      "not for 439\n",
      "not for 470\n",
      "not for 497\n",
      "not for 527\n",
      "not for 706\n",
      "not for 743\n",
      "not for 783\n",
      "not for 815\n",
      "not for 861\n",
      "not for 878\n",
      "not for 902\n",
      "not for 918\n",
      "not for 1029\n",
      "not for 1040\n",
      "not for 1044\n",
      "not for 1057\n",
      "not for 1085\n",
      "not for 1193\n",
      "not for 1233\n",
      "not for 1329\n",
      "not for 1394\n",
      "not for 1431\n",
      "not for 1525\n",
      "not for 1528\n",
      "not for 1532\n",
      "not for 1609\n",
      "not for 1645\n",
      "not for 1696\n",
      "not for 1915\n",
      "not for 1971\n",
      "not for 2024\n",
      "not for 2026\n",
      "not for 2036\n",
      "not for 2069\n",
      "not for 2133\n",
      "not for 2138\n",
      "not for 2142\n",
      "not for 2143\n",
      "not for 2174\n",
      "not for 2193\n",
      "not for 2210\n"
     ]
    },
    {
     "ename": "KeyboardInterrupt",
     "evalue": "",
     "output_type": "error",
     "traceback": [
      "\u001b[0;31m---------------------------------------------------------------------------\u001b[0m",
      "\u001b[0;31mKeyboardInterrupt\u001b[0m                         Traceback (most recent call last)",
      "Cell \u001b[0;32mIn[9], line 19\u001b[0m\n\u001b[1;32m      9\u001b[0m explainer \u001b[38;5;241m=\u001b[39m MutagenicitySymbXAI(sample,\n\u001b[1;32m     10\u001b[0m                     model,\n\u001b[1;32m     11\u001b[0m                     gamma\u001b[38;5;241m=\u001b[39m\u001b[38;5;241m0.1\u001b[39m,\n\u001b[1;32m     12\u001b[0m                     scal_val\u001b[38;5;241m=\u001b[39m\u001b[38;5;241m1.\u001b[39m,\n\u001b[1;32m     13\u001b[0m                     target_class\u001b[38;5;241m=\u001b[39m \u001b[38;5;28;01mNone\u001b[39;00m,\n\u001b[1;32m     14\u001b[0m                     debug \u001b[38;5;241m=\u001b[39m \u001b[38;5;28;01mFalse\u001b[39;00m)\n\u001b[1;32m     15\u001b[0m \u001b[38;5;66;03m# except Exception as e:\u001b[39;00m\n\u001b[1;32m     16\u001b[0m \u001b[38;5;66;03m#     print('not for', idx)\u001b[39;00m\n\u001b[1;32m     17\u001b[0m \u001b[38;5;66;03m#     print(e)\u001b[39;00m\n\u001b[0;32m---> 19\u001b[0m rels\u001b[38;5;241m.\u001b[39mappend(\u001b[43mexplainer\u001b[49m\u001b[38;5;241;43m.\u001b[39;49m\u001b[43msubgraph_relevance\u001b[49m\u001b[43m(\u001b[49m\u001b[43mexplainer\u001b[49m\u001b[38;5;241;43m.\u001b[39;49m\u001b[43mnode_domain\u001b[49m\u001b[43m)\u001b[49m)\n\u001b[1;32m     20\u001b[0m pred \u001b[38;5;241m=\u001b[39m model(sample\u001b[38;5;241m.\u001b[39mx, sample\u001b[38;5;241m.\u001b[39medge_index)\u001b[38;5;241m.\u001b[39mdetach()\n\u001b[1;32m     21\u001b[0m preds\u001b[38;5;241m.\u001b[39mappend(pred[\u001b[38;5;241m0\u001b[39m] \u001b[38;5;241m-\u001b[39m pred[\u001b[38;5;241m1\u001b[39m])\n",
      "File \u001b[0;32m~/Research/Projects/symbolic_xai/symbolicXAI_github/src/symb_xai/lrp/symbolic_xai.py:969\u001b[0m, in \u001b[0;36mMutagenicitySymbXAI.subgraph_relevance\u001b[0;34m(self, subgraph)\u001b[0m\n\u001b[1;32m    961\u001b[0m R \u001b[38;5;241m=\u001b[39m lrp_linear(x \u001b[38;5;241m=\u001b[39m \u001b[38;5;28mself\u001b[39m\u001b[38;5;241m.\u001b[39mmodule_temporary_res[\u001b[38;5;241m0\u001b[39m][\u001b[38;5;124m'\u001b[39m\u001b[38;5;124mout1\u001b[39m\u001b[38;5;124m'\u001b[39m], \n\u001b[1;32m    962\u001b[0m             W \u001b[38;5;241m=\u001b[39m \u001b[38;5;28mself\u001b[39m\u001b[38;5;241m.\u001b[39mmodule_temporary_res[\u001b[38;5;241m0\u001b[39m][\u001b[38;5;124m'\u001b[39m\u001b[38;5;124mlin2\u001b[39m\u001b[38;5;124m'\u001b[39m]\u001b[38;5;241m.\u001b[39mweight\u001b[38;5;241m.\u001b[39mT, \n\u001b[1;32m    963\u001b[0m             b \u001b[38;5;241m=\u001b[39m \u001b[38;5;28mself\u001b[39m\u001b[38;5;241m.\u001b[39mmodule_temporary_res[\u001b[38;5;241m0\u001b[39m][\u001b[38;5;124m'\u001b[39m\u001b[38;5;124mlin2\u001b[39m\u001b[38;5;124m'\u001b[39m]\u001b[38;5;241m.\u001b[39mbias,\n\u001b[1;32m    964\u001b[0m             R \u001b[38;5;241m=\u001b[39m R, rule\u001b[38;5;241m=\u001b[39mrule_linear, gamma\u001b[38;5;241m=\u001b[39m\u001b[38;5;28mself\u001b[39m\u001b[38;5;241m.\u001b[39mgamma, debug\u001b[38;5;241m=\u001b[39m\u001b[38;5;28mself\u001b[39m\u001b[38;5;241m.\u001b[39mdebug)\n\u001b[1;32m    965\u001b[0m R \u001b[38;5;241m=\u001b[39m lrp_linear(x \u001b[38;5;241m=\u001b[39m \u001b[38;5;28mself\u001b[39m\u001b[38;5;241m.\u001b[39mmodule_temporary_res[\u001b[38;5;241m0\u001b[39m][\u001b[38;5;124m'\u001b[39m\u001b[38;5;124mout\u001b[39m\u001b[38;5;124m'\u001b[39m], \n\u001b[1;32m    966\u001b[0m             W \u001b[38;5;241m=\u001b[39m \u001b[38;5;28mself\u001b[39m\u001b[38;5;241m.\u001b[39mmodule_temporary_res[\u001b[38;5;241m0\u001b[39m][\u001b[38;5;124m'\u001b[39m\u001b[38;5;124mlin1\u001b[39m\u001b[38;5;124m'\u001b[39m]\u001b[38;5;241m.\u001b[39mweight\u001b[38;5;241m.\u001b[39mT, \n\u001b[1;32m    967\u001b[0m             b \u001b[38;5;241m=\u001b[39m \u001b[38;5;28mself\u001b[39m\u001b[38;5;241m.\u001b[39mmodule_temporary_res[\u001b[38;5;241m0\u001b[39m][\u001b[38;5;124m'\u001b[39m\u001b[38;5;124mlin1\u001b[39m\u001b[38;5;124m'\u001b[39m]\u001b[38;5;241m.\u001b[39mbias,\n\u001b[1;32m    968\u001b[0m             R \u001b[38;5;241m=\u001b[39m R, rule\u001b[38;5;241m=\u001b[39mrule_linear, gamma\u001b[38;5;241m=\u001b[39m\u001b[38;5;28mself\u001b[39m\u001b[38;5;241m.\u001b[39mgamma, debug\u001b[38;5;241m=\u001b[39m\u001b[38;5;28mself\u001b[39m\u001b[38;5;241m.\u001b[39mdebug)\n\u001b[0;32m--> 969\u001b[0m R \u001b[38;5;241m=\u001b[39m \u001b[43mlrp_gconv\u001b[49m\u001b[43m(\u001b[49m\u001b[43mx\u001b[49m\u001b[43m \u001b[49m\u001b[38;5;241;43m=\u001b[39;49m\u001b[43m \u001b[49m\u001b[38;5;28;43mself\u001b[39;49m\u001b[38;5;241;43m.\u001b[39;49m\u001b[43mx\u001b[49m\u001b[43m,\u001b[49m\u001b[43m \u001b[49m\n\u001b[1;32m    970\u001b[0m \u001b[43m            \u001b[49m\u001b[43mA\u001b[49m\u001b[43m \u001b[49m\u001b[38;5;241;43m=\u001b[39;49m\u001b[43m \u001b[49m\u001b[43mA\u001b[49m\u001b[43m,\u001b[49m\u001b[43m \u001b[49m\n\u001b[1;32m    971\u001b[0m \u001b[43m            \u001b[49m\u001b[43mR\u001b[49m\u001b[43m \u001b[49m\u001b[38;5;241;43m=\u001b[39;49m\u001b[43m \u001b[49m\u001b[43mR\u001b[49m\u001b[43m,\u001b[49m\u001b[43m \u001b[49m\u001b[43mdebug\u001b[49m\u001b[38;5;241;43m=\u001b[39;49m\u001b[38;5;28;43mself\u001b[39;49m\u001b[38;5;241;43m.\u001b[39;49m\u001b[43mdebug\u001b[49m\u001b[43m)\u001b[49m\n\u001b[1;32m    972\u001b[0m \u001b[38;5;28;01mreturn\u001b[39;00m R[subgraph]\u001b[38;5;241m.\u001b[39msum() \u001b[38;5;241m*\u001b[39m \u001b[38;5;28mself\u001b[39m\u001b[38;5;241m.\u001b[39mscal_val\n",
      "File \u001b[0;32m/opt/homebrew/Caskroom/miniconda/base/envs/symbxai/lib/python3.10/site-packages/torch/utils/_contextlib.py:115\u001b[0m, in \u001b[0;36mcontext_decorator.<locals>.decorate_context\u001b[0;34m(*args, **kwargs)\u001b[0m\n\u001b[1;32m    112\u001b[0m \u001b[38;5;129m@functools\u001b[39m\u001b[38;5;241m.\u001b[39mwraps(func)\n\u001b[1;32m    113\u001b[0m \u001b[38;5;28;01mdef\u001b[39;00m \u001b[38;5;21mdecorate_context\u001b[39m(\u001b[38;5;241m*\u001b[39margs, \u001b[38;5;241m*\u001b[39m\u001b[38;5;241m*\u001b[39mkwargs):\n\u001b[1;32m    114\u001b[0m     \u001b[38;5;28;01mwith\u001b[39;00m ctx_factory():\n\u001b[0;32m--> 115\u001b[0m         \u001b[38;5;28;01mreturn\u001b[39;00m \u001b[43mfunc\u001b[49m\u001b[43m(\u001b[49m\u001b[38;5;241;43m*\u001b[39;49m\u001b[43margs\u001b[49m\u001b[43m,\u001b[49m\u001b[43m \u001b[49m\u001b[38;5;241;43m*\u001b[39;49m\u001b[38;5;241;43m*\u001b[39;49m\u001b[43mkwargs\u001b[49m\u001b[43m)\u001b[49m\n",
      "File \u001b[0;32m~/Research/Projects/symbolic_xai/symbolicXAI_github/src/symb_xai/lrp/explain_mutag.py:65\u001b[0m, in \u001b[0;36mlrp_gconv\u001b[0;34m(x, A, R, rule, debug, **kwargs)\u001b[0m\n\u001b[1;32m     59\u001b[0m \u001b[38;5;66;03m# T = torch.nan_to_num(numerator / (numerator.sum(axis=0).unsqueeze(0)), 0.) # (#node_t, #node_t+1, dim_t)\u001b[39;00m\n\u001b[1;32m     60\u001b[0m \u001b[38;5;66;03m# T_lastdim = T[:, :, -1] # (#node_t, #node_t+1)\u001b[39;00m\n\u001b[1;32m     61\u001b[0m \u001b[38;5;66;03m# print(T_lastdim.sum(axis=0))\u001b[39;00m\n\u001b[1;32m     62\u001b[0m \u001b[38;5;66;03m# print(R[:, -1])\u001b[39;00m\n\u001b[1;32m     63\u001b[0m \u001b[38;5;66;03m# print((A@x)[:, -1])\u001b[39;00m\n\u001b[1;32m     64\u001b[0m \u001b[38;5;28;01mif\u001b[39;00m rule \u001b[38;5;241m==\u001b[39m \u001b[38;5;124m'\u001b[39m\u001b[38;5;124mnone\u001b[39m\u001b[38;5;124m'\u001b[39m:\n\u001b[0;32m---> 65\u001b[0m     R_out \u001b[38;5;241m=\u001b[39m (\u001b[43mtorch\u001b[49m\u001b[38;5;241;43m.\u001b[39;49m\u001b[43mnan_to_num\u001b[49m\u001b[43m(\u001b[49m\u001b[43mnumerator\u001b[49m\u001b[43m \u001b[49m\u001b[38;5;241;43m/\u001b[39;49m\u001b[43m \u001b[49m\u001b[43m(\u001b[49m\u001b[43mnumerator\u001b[49m\u001b[38;5;241;43m.\u001b[39;49m\u001b[43msum\u001b[49m\u001b[43m(\u001b[49m\u001b[43maxis\u001b[49m\u001b[38;5;241;43m=\u001b[39;49m\u001b[38;5;241;43m0\u001b[39;49m\u001b[43m)\u001b[49m\u001b[38;5;241;43m.\u001b[39;49m\u001b[43munsqueeze\u001b[49m\u001b[43m(\u001b[49m\u001b[38;5;241;43m0\u001b[39;49m\u001b[43m)\u001b[49m\u001b[43m)\u001b[49m\u001b[43m,\u001b[49m\u001b[43m \u001b[49m\u001b[38;5;241;43m0.\u001b[39;49m\u001b[43m)\u001b[49m \u001b[38;5;241m*\u001b[39m R\u001b[38;5;241m.\u001b[39munsqueeze(\u001b[38;5;241m0\u001b[39m))\u001b[38;5;241m.\u001b[39msum(axis\u001b[38;5;241m=\u001b[39m\u001b[38;5;241m1\u001b[39m)\n\u001b[1;32m     66\u001b[0m \u001b[38;5;28;01melif\u001b[39;00m rule \u001b[38;5;241m==\u001b[39m \u001b[38;5;124m'\u001b[39m\u001b[38;5;124mepsilon\u001b[39m\u001b[38;5;124m'\u001b[39m:\n\u001b[1;32m     67\u001b[0m     epsilon \u001b[38;5;241m=\u001b[39m kwargs[\u001b[38;5;124m'\u001b[39m\u001b[38;5;124mepsilon\u001b[39m\u001b[38;5;124m'\u001b[39m]\n",
      "\u001b[0;31mKeyboardInterrupt\u001b[0m: "
     ]
    }
   ],
   "source": [
    "rels, preds = [], []\n",
    "nbs = 0\n",
    "for idx, sample in enumerate(dataset):\n",
    "    \n",
    "    if sample.x.shape[0] != len(set(sample.edge_index[0].numpy())):\n",
    "        print('not for', idx)\n",
    "        nbs += 1\n",
    "        continue\n",
    "    explainer = MutagenicitySymbXAI(sample,\n",
    "                        model,\n",
    "                        gamma=0.1,\n",
    "                        scal_val=1.,\n",
    "                        target_class= None,\n",
    "                        debug = False)\n",
    "    # except Exception as e:\n",
    "    #     print('not for', idx)\n",
    "    #     print(e)\n",
    "    \n",
    "    rels.append(explainer.subgraph_relevance(explainer.node_domain))\n",
    "    pred = model(sample.x, sample.edge_index).detach()\n",
    "    preds.append(pred[0] - pred[1])\n",
    "\n",
    "plt.figure(figsize=(5,5))\n",
    "plt.scatter(preds,rels, c='black', s= 2, alpha=.4)\n",
    "plt.ylabel('relevance')\n",
    "plt.xlabel('prediction')\n",
    "plt.show()"
   ]
  },
  {
   "cell_type": "code",
   "execution_count": null,
   "metadata": {},
   "outputs": [],
   "source": []
  },
  {
   "cell_type": "code",
   "execution_count": null,
   "metadata": {},
   "outputs": [],
   "source": []
  }
 ],
 "metadata": {
  "kernelspec": {
   "display_name": "symbxai",
   "language": "python",
   "name": "python3"
  },
  "language_info": {
   "codemirror_mode": {
    "name": "ipython",
    "version": 3
   },
   "file_extension": ".py",
   "mimetype": "text/x-python",
   "name": "python",
   "nbconvert_exporter": "python",
   "pygments_lexer": "ipython3",
   "version": "3.10.14"
  }
 },
 "nbformat": 4,
 "nbformat_minor": 2
}
